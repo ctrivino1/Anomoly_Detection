{
  "nbformat": 4,
  "nbformat_minor": 0,
  "metadata": {
    "colab": {
      "name": "Anomoly_detection_practice.ipynb",
      "private_outputs": true,
      "provenance": [],
      "authorship_tag": "ABX9TyOR19UVdN8K4wmq/qHt0s1e",
      "include_colab_link": true
    },
    "kernelspec": {
      "name": "python3",
      "display_name": "Python 3"
    },
    "language_info": {
      "name": "python"
    }
  },
  "cells": [
    {
      "cell_type": "markdown",
      "metadata": {
        "id": "view-in-github",
        "colab_type": "text"
      },
      "source": [
        "<a href=\"https://colab.research.google.com/github/ctrivino1/Anomoly_detection/blob/main/Anomoly_detection_practice.ipynb\" target=\"_parent\"><img src=\"https://colab.research.google.com/assets/colab-badge.svg\" alt=\"Open In Colab\"/></a>"
      ]
    },
    {
      "cell_type": "code",
      "execution_count": null,
      "metadata": {
        "id": "BOV6dOi0txin"
      },
      "outputs": [],
      "source": [
        "!pip install pyforest\n",
        "import pyforest\n",
        "! git clone https://github.com/ctrivino1/Anomoly_detection.git\n",
        "alt.data_transformers.disable_max_rows()"
      ]
    },
    {
      "cell_type": "code",
      "source": [
        "dat = pd.read_excel('/content/Anomoly_detection/Data/Sample - Superstore.xls', index_col=0)\n",
        "dat.head()"
      ],
      "metadata": {
        "id": "ySSjywQntzrH"
      },
      "execution_count": null,
      "outputs": []
    },
    {
      "cell_type": "code",
      "source": [
        "X = dat.drop([\"Profit\"],axis=1)\n",
        "y = dat.Profit"
      ],
      "metadata": {
        "id": "dHmfY6Kc_92n"
      },
      "execution_count": null,
      "outputs": []
    },
    {
      "cell_type": "code",
      "source": [
        "dat.Sales.describe()"
      ],
      "metadata": {
        "id": "I49QEu7H16JF"
      },
      "execution_count": null,
      "outputs": []
    },
    {
      "cell_type": "markdown",
      "source": [
        "Distribution of sales"
      ],
      "metadata": {
        "id": "uyLQAWwh2fPI"
      }
    },
    {
      "cell_type": "code",
      "source": [
        "sns.distplot(dat.Sales)"
      ],
      "metadata": {
        "id": "lGFgQQ5MzLdX"
      },
      "execution_count": null,
      "outputs": []
    },
    {
      "cell_type": "markdown",
      "source": [
        "Distribution of Profit"
      ],
      "metadata": {
        "id": "JxMP3e_y2i5t"
      }
    },
    {
      "cell_type": "code",
      "source": [
        "dat.Profit.describe"
      ],
      "metadata": {
        "id": "kbEsRkB71kj8"
      },
      "execution_count": null,
      "outputs": []
    },
    {
      "cell_type": "code",
      "source": [
        "sns.distplot(dat.Profit)"
      ],
      "metadata": {
        "id": "KH1IR7It2twT"
      },
      "execution_count": null,
      "outputs": []
    },
    {
      "cell_type": "markdown",
      "source": [
        "# Finding anomolies with the \"Sales\" column"
      ],
      "metadata": {
        "id": "PRvGSR2sSL0s"
      }
    },
    {
      "cell_type": "code",
      "source": [
        "from sklearn.ensemble import IsolationForest\n",
        "\n",
        "isolation_forest = IsolationForest(n_estimators=100) # default for n_estimators is 100\n",
        "isolation_forest.fit(dat['Sales'].values.reshape(-1, 1)) # fitting/training our model to the sales data in column format\n",
        "xx = np.linspace(dat['Sales'].min(), dat['Sales'].max(), len(dat)).reshape(-1,1) # creating data starting from the min of sale to the max, with 9994 steps in between\n",
        "anomaly_score = isolation_forest.decision_function(xx) # finding the anomoly scores of the created xx data. The lower the score teh more abnormal. Negative scores represent outliers, positive represent inliers\n",
        "outlier = isolation_forest.predict(xx) # the prediciton function returns a 1 or -1, \"1\" represents inliers and \"-1\" represent outliers\n",
        "plt.figure(figsize=(10,4))\n",
        "plt.plot(xx, anomaly_score, label='anomaly score') # plotting the data and its anomaly scores\n",
        "plt.fill_between(xx.T[0], np.min(anomaly_score), np.max(anomaly_score), \n",
        "                 where=outlier==-1, color='r', \n",
        "                 alpha=.4, label='outlier region')\n",
        "# xx.T[0] are the x coordinates, the np.min/np.max control the minimum and max values of the y-axis\n",
        "# where is filtering for when our outlierr==-1 and is coloring all of the outliers red. \n",
        "plt.legend()\n",
        "plt.ylabel('anomaly score')\n",
        "plt.xlabel('Sales')\n",
        "plt.show()"
      ],
      "metadata": {
        "id": "MeJOCLm-2zB4"
      },
      "execution_count": null,
      "outputs": []
    },
    {
      "cell_type": "code",
      "source": [
        "dat2 = dat\n",
        "\n",
        "dat2['scores'] = isolation_forest.decision_function(dat[['Sales']])\n",
        "\n",
        "dat2['anomaly_score'] = isolation_forest.predict(dat[['Sales']])\n",
        "\n",
        "dat2[dat2['anomaly_score']==-1].head()"
      ],
      "metadata": {
        "id": "4GEbRlacKMjX"
      },
      "execution_count": null,
      "outputs": []
    },
    {
      "cell_type": "markdown",
      "source": [
        "# Finding Anomalies with the \"Profit\" column"
      ],
      "metadata": {
        "id": "9eD6sn3ASG7-"
      }
    },
    {
      "cell_type": "code",
      "source": [
        "from sklearn.ensemble import IsolationForest\n",
        "\n",
        "isolation_forest = IsolationForest(n_estimators=100)\n",
        "isolation_forest.fit(dat['Profit'].values.reshape(-1, 1))\n",
        "xx = np.linspace(dat['Profit'].min(), dat['Profit'].max(), len(dat)).reshape(-1,1)\n",
        "anomaly_score = isolation_forest.decision_function(xx)\n",
        "outlier = isolation_forest.predict(xx)\n",
        "plt.figure(figsize=(10,4))\n",
        "plt.plot(xx, anomaly_score, label='anomaly score')\n",
        "plt.fill_between(xx.T[0], np.min(anomaly_score), np.max(anomaly_score), \n",
        "                 where=outlier==-1, color='r', \n",
        "                 alpha=.4, label='outlier region')\n",
        "plt.legend()\n",
        "plt.ylabel('anomaly score')\n",
        "plt.xlabel('Profit')\n",
        "plt.show()"
      ],
      "metadata": {
        "id": "QG4O1C7Z-FIO"
      },
      "execution_count": null,
      "outputs": []
    },
    {
      "cell_type": "code",
      "source": [
        "dat3 = dat\n",
        "\n",
        "dat3['scores'] = isolation_forest.decision_function(dat[['Profit']])\n",
        "\n",
        "dat3['anomaly_score'] = isolation_forest.predict(dat[['Profit']])\n",
        "\n",
        "dat3[dat3['anomaly_score']==-1].head()"
      ],
      "metadata": {
        "id": "i4lPdLphAuCw"
      },
      "execution_count": null,
      "outputs": []
    },
    {
      "cell_type": "markdown",
      "source": [
        "# Multivariate Anomaly Detection\n",
        "\n",
        "Using both Sales and Profit"
      ],
      "metadata": {
        "id": "CYXlnXdTSP01"
      }
    },
    {
      "cell_type": "code",
      "source": [
        "sns.regplot(x=\"Sales\", y=\"Profit\", data=dat)\n",
        "sns.despine(); # despine gets rid of the box lines around the graph"
      ],
      "metadata": {
        "id": "4X2hV1BJSaLk"
      },
      "execution_count": null,
      "outputs": []
    },
    {
      "cell_type": "code",
      "source": [
        ""
      ],
      "metadata": {
        "id": "HLDIuSSGSgjK"
      },
      "execution_count": null,
      "outputs": []
    }
  ]
}